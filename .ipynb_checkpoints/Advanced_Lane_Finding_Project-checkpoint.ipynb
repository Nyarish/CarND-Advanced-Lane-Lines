{
 "cells": [
  {
   "cell_type": "markdown",
   "metadata": {},
   "source": [
    "## Advanced Lane Finding Project\n",
    "\n",
    "In this project, the objective is to detect lane lines in images using Python and OpenCV. OpenCV means \"Open-Source Computer Vision\", which is a package that has many useful tools for analyzing images.\n",
    "\n",
    "The goal and steps of this project are the following:\n",
    "\n",
    "* Compute the camera calibration matrix and distortion coefficients given a set of chessboard images.\n",
    "* Apply a distortion correction to raw images.\n",
    "* Use color transforms, gradients, etc., to create a thresholded binary image.\n",
    "* Apply a perspective transform to rectify binary image (\"birds-eye view\").\n",
    "* Detect lane pixels and fit to find the lane boundary.\n",
    "* Determine the curvature of the lane and vehicle position with respect to center.\n",
    "* Warp the detected lane boundaries back onto the original image.\n",
    "* Output visual display of the lane boundaries and numerical estimation of lane curvature and vehicle position.\n",
    "\n",
    "---\n"
   ]
  },
  {
   "cell_type": "code",
   "execution_count": 1,
   "metadata": {},
   "outputs": [],
   "source": [
    "# Get imports\n",
    "import pickle\n",
    "import numpy as np\n",
    "import cv2\n",
    "import glob\n",
    "import matplotlib.pyplot as plt\n",
    "import matplotlib.image as mpimg\n",
    "%matplotlib qt"
   ]
  },
  {
   "cell_type": "markdown",
   "metadata": {},
   "source": [
    "### Step 1: Compute the camera calibration using chessboard images\n",
    "\n",
    "---"
   ]
  },
  {
   "cell_type": "code",
   "execution_count": 2,
   "metadata": {},
   "outputs": [],
   "source": [
    "# import helper functions\n",
    "import camera_calibrator\n",
    "\n",
    "mtx, dist = camera_calibrator.get_calibration_matrix()"
   ]
  },
  {
   "cell_type": "markdown",
   "metadata": {},
   "source": [
    "### Step 2: Distortion correction\n",
    "---"
   ]
  },
  {
   "cell_type": "code",
   "execution_count": 3,
   "metadata": {},
   "outputs": [],
   "source": [
    "# Files to undistort\n",
    "calibration1 = ('./camera_cal/calibration1.jpg')\n",
    "straight_lines1 = ('./test_images/straight_lines1.jpg')\n",
    "straight_lines2 = ('./test_images/straight_lines2.jpg')\n",
    "test1 = ('./test_images/test1.jpg')\n",
    "test2 = ('./test_images/test2.jpg')\n",
    "test3 = ('./test_images/test3.jpg')\n",
    "test4 = ('./test_images/test4.jpg')\n",
    "test5 = ('./test_images/test5.jpg')\n",
    "test6 = ('./test_images/test6.jpg')\n",
    "\n",
    "# Apply a distortion correction to raw images.\n",
    "# import helper functions\n",
    "import distortion_correction\n",
    "\n",
    "undist_calibration1 = distortion_correction.get_undistorted_image(calibration1, mtx, dist)\n",
    "undist_straight_lines1 = distortion_correction.get_undistorted_image(straight_lines1, mtx, dist)\n",
    "undist_straight_lines2 = distortion_correction.get_undistorted_image(straight_lines2, mtx, dist)\n",
    "undist_test1 = distortion_correction.get_undistorted_image(test1, mtx, dist)\n",
    "undist_test2 = distortion_correction.get_undistorted_image(test2, mtx, dist)\n",
    "undist_test3 = distortion_correction.get_undistorted_image(test3, mtx, dist)\n",
    "undist_test4 = distortion_correction.get_undistorted_image(test4, mtx, dist)\n",
    "undist_test5 = distortion_correction.get_undistorted_image(test5, mtx, dist)\n",
    "undist_test6 = distortion_correction.get_undistorted_image(test6, mtx, dist)"
   ]
  },
  {
   "cell_type": "code",
   "execution_count": 14,
   "metadata": {},
   "outputs": [],
   "source": [
    "# display distortion images \n",
    "# distortion_correction.visualizeUndistortion(calibration1, undist_calibration1)\n",
    "# distortion_correction.visualizeUndistortion(straight_lines1, undist_straight_lines1)\n",
    "# distortion_correction.visualizeUndistortion(straight_lines2, undist_straight_lines2)\n",
    "# distortion_correction.visualizeUndistortion(test1, undist_test1)\n",
    "distortion_correction.visualizeUndistortion(test2, undist_test2)\n",
    "# distortion_correction.visualizeUndistortion(test3, undist_test3)\n",
    "# distortion_correction.visualizeUndistortion(test4, undist_test4)\n",
    "# distortion_correction.visualizeUndistortion(test5, undist_test5)\n",
    "# distortion_correction.visualizeUndistortion(test6, undist_test6)\n"
   ]
  },
  {
   "cell_type": "markdown",
   "metadata": {},
   "source": [
    "### Step 3: Color and gradient threshold\n",
    "---"
   ]
  },
  {
   "cell_type": "code",
   "execution_count": 5,
   "metadata": {},
   "outputs": [],
   "source": [
    "# Import helper functions \n",
    "import image_binary_gradient\n",
    "\n",
    "# get binary_image\n",
    "color_binary, binary_image = image_binary_gradient.get_binary_image(undist_test2)\n",
    "\n",
    "# Read image to use in color and gradient threshold\n",
    "image_binary_gradient.visualizeColorTheshold(color_binary, binary_image)\n"
   ]
  },
  {
   "cell_type": "markdown",
   "metadata": {},
   "source": [
    "### Step 4: Perspective transform\n",
    "---"
   ]
  },
  {
   "cell_type": "code",
   "execution_count": 6,
   "metadata": {},
   "outputs": [],
   "source": [
    "# import Helper functions\n",
    "import perspective_transform\n",
    "\n",
    "# perspective transform on lane lines. \n",
    "birds_view = perspective_transform.get_transformed_perspective(undist_test2)\n",
    "perspective_transform.visualizePerspectiveTransform(undist_test5, birds_view)\n"
   ]
  },
  {
   "cell_type": "markdown",
   "metadata": {},
   "source": [
    "### Step 5: Detect lane pixels and fit to find the lane boundary"
   ]
  },
  {
   "cell_type": "code",
   "execution_count": 7,
   "metadata": {},
   "outputs": [
    {
     "data": {
      "text/plain": [
       "[<matplotlib.lines.Line2D at 0x12cfad250>]"
      ]
     },
     "execution_count": 7,
     "metadata": {},
     "output_type": "execute_result"
    }
   ],
   "source": [
    "top_down = perspective_transform.get_transformed_perspective(binary_image)\n",
    "histogram = np.sum(top_down[top_down.shape[0]//2:,:], axis=0)\n",
    "plt.plot(histogram)\n"
   ]
  },
  {
   "cell_type": "code",
   "execution_count": 8,
   "metadata": {},
   "outputs": [],
   "source": [
    "# Helper functions\n",
    "import detect_lane_pixels\n",
    "\n",
    "# Visualize lane window\n",
    "out_img,left_fit, right_fit = detect_lane_pixels.fit_polynomial(top_down)\n",
    "plt.imshow(out_img);"
   ]
  },
  {
   "cell_type": "code",
   "execution_count": 9,
   "metadata": {},
   "outputs": [],
   "source": [
    "# Run image through the pipeline show lane pixels on road\n",
    "#result,left_fitx, right_fitx, ploty = detect_lane_pixels.search_around_poly(top_down)\n",
    "result,left_fitx, right_fitx, ploty, lane_lines = detect_lane_pixels.search_around_poly(top_down)\n",
    "plt.imshow(result);\n"
   ]
  },
  {
   "cell_type": "markdown",
   "metadata": {},
   "source": [
    "### Step 6: Determine the curvature of the lane and vehicle position with respect to center"
   ]
  },
  {
   "cell_type": "code",
   "execution_count": null,
   "metadata": {},
   "outputs": [],
   "source": []
  },
  {
   "cell_type": "code",
   "execution_count": 12,
   "metadata": {},
   "outputs": [
    {
     "name": "stdout",
     "output_type": "stream",
     "text": [
      "Left Curvature: 953.82m, Right Curvature: 1069.12m, Lane offset to Vehicle: 0.03m\n"
     ]
    }
   ],
   "source": [
    "# Helper functions\n",
    "import measure_curvature\n",
    "\n",
    "# Calculate the radius of curvature in meters for both lane lines\n",
    "left_curverad, right_curverad, offset = measure_curvature.get_lane_curvature_real(top_down)\n",
    "print('Left Curvature: {:.2f}m, Right Curvature: {:.2f}m, Lane offset to Vehicle: {:.2f}m'.format(left_curverad, right_curverad, offset))\n"
   ]
  },
  {
   "cell_type": "markdown",
   "metadata": {},
   "source": [
    "### Step 7: Warp the detected lane boundaries back onto the original image"
   ]
  },
  {
   "cell_type": "code",
   "execution_count": 13,
   "metadata": {},
   "outputs": [
    {
     "data": {
      "text/plain": [
       "<matplotlib.image.AxesImage at 0x13b511490>"
      ]
     },
     "execution_count": 13,
     "metadata": {},
     "output_type": "execute_result"
    }
   ],
   "source": [
    "lane_drawn_img = measure_curvature.draw_lane_to_orinalImage(undist_test2, lane_lines, ploty, left_fitx, right_fitx)\n",
    "original_img = measure_curvature.write_values_to_image(lane_drawn_img,left_curverad, right_curverad, offset)\n",
    "plt.imshow(original_img)"
   ]
  },
  {
   "cell_type": "code",
   "execution_count": null,
   "metadata": {},
   "outputs": [],
   "source": []
  },
  {
   "cell_type": "code",
   "execution_count": null,
   "metadata": {},
   "outputs": [],
   "source": []
  },
  {
   "cell_type": "code",
   "execution_count": null,
   "metadata": {},
   "outputs": [],
   "source": []
  },
  {
   "cell_type": "code",
   "execution_count": null,
   "metadata": {},
   "outputs": [],
   "source": []
  },
  {
   "cell_type": "code",
   "execution_count": null,
   "metadata": {},
   "outputs": [],
   "source": []
  },
  {
   "cell_type": "code",
   "execution_count": null,
   "metadata": {},
   "outputs": [],
   "source": []
  },
  {
   "cell_type": "code",
   "execution_count": null,
   "metadata": {},
   "outputs": [],
   "source": []
  }
 ],
 "metadata": {
  "kernelspec": {
   "display_name": "Python 3",
   "language": "python",
   "name": "python3"
  },
  "language_info": {
   "codemirror_mode": {
    "name": "ipython",
    "version": 3
   },
   "file_extension": ".py",
   "mimetype": "text/x-python",
   "name": "python",
   "nbconvert_exporter": "python",
   "pygments_lexer": "ipython3",
   "version": "3.7.6"
  }
 },
 "nbformat": 4,
 "nbformat_minor": 4
}
