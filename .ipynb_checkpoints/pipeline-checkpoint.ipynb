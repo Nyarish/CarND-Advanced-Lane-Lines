{
 "cells": [
  {
   "cell_type": "code",
   "execution_count": 1,
   "metadata": {},
   "outputs": [],
   "source": [
    "# Get imports\n",
    "import pickle\n",
    "import numpy as np\n",
    "import cv2\n",
    "import glob\n",
    "import matplotlib.pyplot as plt\n",
    "import matplotlib.image as mpimg\n",
    "%matplotlib qt"
   ]
  },
  {
   "cell_type": "code",
   "execution_count": 2,
   "metadata": {},
   "outputs": [],
   "source": [
    "# Get helper functions\n",
    "import camera_calibrator\n",
    "import distortion_correction\n",
    "import image_binary_gradient\n",
    "import perspective_transform\n",
    "import detect_lane_pixels\n",
    "import measure_curvature"
   ]
  },
  {
   "cell_type": "code",
   "execution_count": 3,
   "metadata": {},
   "outputs": [],
   "source": [
    "# Files to undistort\n",
    "calibration1 = ('./camera_cal/calibration1.jpg')\n",
    "straight_lines1 = ('./test_images/straight_lines1.jpg')\n",
    "straight_lines2 = ('./test_images/straight_lines2.jpg')\n",
    "test1 = ('./test_images/test1.jpg')\n",
    "test2 = ('./test_images/test2.jpg')\n",
    "test3 = ('./test_images/test3.jpg')\n",
    "test4 = ('./test_images/test4.jpg')\n",
    "test5 = ('./test_images/test5.jpg')\n",
    "test6 = ('./test_images/test6.jpg')\n",
    "\n",
    "def visualizebinary_image(undist_img, binary_image):\n",
    "    f, (ax1, ax2) = plt.subplots(1, 2, figsize=(20, 10))\n",
    "    f.tight_layout()\n",
    "    ax1.imshow(undist_img)\n",
    "    ax1.set_title('Undistorted Image', fontsize=15)\n",
    "    ax2.imshow(binary_image, cmap='gray')\n",
    "    ax2.set_title('Binary_image', fontsize=15)\n",
    "    \n",
    "    \n",
    "def visualize(undist_img, warped_img):\n",
    "    f, (ax1, ax2) = plt.subplots(1, 2, figsize=(20, 10))\n",
    "    f.tight_layout()\n",
    "    ax1.imshow(undist_img)\n",
    "    ax1.set_title('Undistorted Image', fontsize=15)\n",
    "    ax2.imshow(warped_img)\n",
    "    ax2.set_title('Undistorted and Top_down Image', fontsize=15)\n",
    "    \n",
    "def visualize_result(original_img , result):\n",
    "    f, (ax1, ax2) = plt.subplots(1, 2, figsize=(20, 10))\n",
    "    f.tight_layout()\n",
    "    ax1.imshow(original_img)\n",
    "    ax1.set_title('Original Undistorted Image', fontsize=15)\n",
    "    ax2.imshow(result)\n",
    "    ax2.set_title('Marked lane Image', fontsize=15)"
   ]
  },
  {
   "cell_type": "code",
   "execution_count": 4,
   "metadata": {},
   "outputs": [],
   "source": [
    "img = lambda fname: mpimg.imread(fname)"
   ]
  },
  {
   "cell_type": "code",
   "execution_count": null,
   "metadata": {},
   "outputs": [],
   "source": [
    "def pipeline():\n",
    "    \n",
    "    # Get matrix from calibration\n",
    "    mtx, dist = camera_calibrator.get_calibration_matrix()\n",
    "    \n",
    "    # Undistoretd image \n",
    "    undist_img = distortion_correction.get_undistorted_image(image, mtx, dist, gray_scale=False)\n",
    "    \n",
    "    # Binary Image \n",
    "    binary_image = image_binary_gradient.get_binary_image(undist_img)\n",
    "    \n",
    "    # Perspective trasform\n",
    "    top_down = perspective_transform.get_transformed_perspective(binary_image)  \n",
    "    \n",
    "    # Warp the color zone back to original image space using inverse perspective matrix (Minv)\n",
    "    color_zone_warp = measure_curvature.get_color_zone_warp(top_down)\n",
    "    newwarp  = perspective_transform.get_original_perspective(color_zone_warp)\n",
    "\n",
    "    original_img = cv2.addWeighted(image, 1, newwarp, 0.3, 0)\n",
    "    result = measure_curvature.add_text(original_img, top_down)\n",
    "    \n",
    "    # If gray scale convert to triple channel format\n",
    "    \n",
    "    if len(result.shape) == 2:\n",
    "        result = np.dstack((original_img,)*3)\n",
    "\n",
    "    # If binary image, scale to full 8-bit values\n",
    "    if np.max(result) <= 1:\n",
    "        result *= 255\n",
    "    \n",
    "    return result"
   ]
  },
  {
   "cell_type": "code",
   "execution_count": null,
   "metadata": {},
   "outputs": [],
   "source": [
    "# Import everything needed to edit/save/watch video clips\n",
    "from moviepy.editor import VideoFileClip\n",
    "from IPython.display import HTML"
   ]
  },
  {
   "cell_type": "code",
   "execution_count": null,
   "metadata": {},
   "outputs": [],
   "source": [
    "fname = 'project_video.mp4'\n",
    "output = 'project_video_processed.mp4'\n",
    "\n",
    "image_clip = cv2.imread(fname)\n",
    "clip1 = VideoFileClip(image_clip)\n",
    "clip = clip1.fl_image(pipeline(cv2.cvtColor(image, cv2.COLOR_BGR2RGB)))\n",
    "%time clip.write_videofile(output, audio=False)\n",
    "\n",
    "\n"
   ]
  },
  {
   "cell_type": "code",
   "execution_count": 5,
   "metadata": {},
   "outputs": [],
   "source": [
    "# # Undistoretd image \n",
    "# mtx, dist = camera_calibrator.get_calibration_matrix()\n",
    "# undist_img = distortion_correction.get_undistorted_image(img(test2), mtx, dist, gray_scale=False)\n",
    "# #distortion_correction.visualizeUndistortion(img(test2),undist_img)"
   ]
  },
  {
   "cell_type": "code",
   "execution_count": 6,
   "metadata": {},
   "outputs": [],
   "source": [
    "# # Binary Image \n",
    "\n",
    "# binary_image = image_binary_gradient.get_binary_image(undist_img)\n",
    "# #visualizebinary_image(undist_img, binary_image)"
   ]
  },
  {
   "cell_type": "code",
   "execution_count": 7,
   "metadata": {},
   "outputs": [],
   "source": [
    "# # Perspective trasform\n",
    "    \n",
    "# top_down = perspective_transform.get_transformed_perspective(binary_image)   \n",
    "# birds_view = perspective_transform.get_transformed_perspective(undist_img)  \n",
    "# #visualize(undist_img, birds_view)\n"
   ]
  },
  {
   "cell_type": "code",
   "execution_count": 9,
   "metadata": {},
   "outputs": [],
   "source": [
    "# # Warp the color zone back to original image space using inverse perspective matrix (Minv)\n",
    "# color_zone_warp = measure_curvature.get_color_zone_warp(top_down)\n",
    "# newwarp  = perspective_transform.get_original_perspective(color_zone_warp)\n",
    "\n",
    "# image = img(test2)\n",
    "# original_img = cv2.addWeighted(image, 1, newwarp, 0.3, 0)\n",
    "# result = measure_curvature.add_text(original_img, top_down)\n",
    "\n",
    "# visualize_result(image , result)"
   ]
  },
  {
   "cell_type": "code",
   "execution_count": 11,
   "metadata": {},
   "outputs": [],
   "source": [
    "# def pipeline_try(image):\n",
    "    \n",
    "#     #img = mpimg.imread(image)\n",
    "\n",
    "    \n",
    "#     # Get matrix from calibration \n",
    "    \n",
    "#     mtx, dist = camera_calibrator.get_calibration_matrix()\n",
    "  \n",
    "#     # Get undistorted image\n",
    "#     undist_img = distortion_correction.undistort_image(image, mtx, dist)\n",
    "#     #undist_img = distortion_correction.get_undistorted_image(img, mtx, dist, gray_scale=False)\n",
    "#     #undist_img = distortion_correction.get_undistorted_image_from_file(img, mtx, dist, gray_scale=False)\n",
    "        \n",
    "#     # Get color and gradient threshold \n",
    "    \n",
    "#     _, binary_image = image_binary_gradient.get_binary_image(undist_img)\n",
    "    \n",
    "#     # Perform perspective transform\n",
    "#     top_down = perspective_transform.get_transformed_perspective(binary_image)\n",
    "        \n",
    "#     # Determine the curvature of the lane and vehicle position with respect to center\n",
    "#     #left_curverad, right_curverad, offset = measure_curvature.get_lane_curvature_real(top_down)\n",
    "        \n",
    "#     # Warp the detected lane boundaries back onto the original image\n",
    "#     original_img = measure_curvature.draw_lane_to_orinalImage(undist_img,top_down)\n",
    "    \n",
    "#     # If gray scale convert to triple channel format\n",
    "#     if len(original_img.shape) == 2:\n",
    "#         result = np.dstack((original_img,)*3)\n",
    "\n",
    "#     # If binary image, scale to full 8-bit values\n",
    "#     if np.max(original_img) <= 1:\n",
    "#         original_img *= 255\n",
    "    \n",
    "    \n",
    "        \n",
    "#     return original_img\n",
    "\n",
    "\n",
    "# # Plot image with detected lanes\n",
    "# image = cv2.imread(test5)\n",
    "# result = pipeline_try(cv2.cvtColor(image, cv2.COLOR_BGR2RGB))\n",
    "# plt.imshow(result)"
   ]
  },
  {
   "cell_type": "code",
   "execution_count": null,
   "metadata": {},
   "outputs": [],
   "source": []
  }
 ],
 "metadata": {
  "kernelspec": {
   "display_name": "Python 3",
   "language": "python",
   "name": "python3"
  },
  "language_info": {
   "codemirror_mode": {
    "name": "ipython",
    "version": 3
   },
   "file_extension": ".py",
   "mimetype": "text/x-python",
   "name": "python",
   "nbconvert_exporter": "python",
   "pygments_lexer": "ipython3",
   "version": "3.7.6"
  }
 },
 "nbformat": 4,
 "nbformat_minor": 4
}
